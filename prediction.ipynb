{
 "cells": [
  {
   "cell_type": "code",
   "execution_count": 6,
   "id": "263a4261",
   "metadata": {},
   "outputs": [],
   "source": [
    "import tensorflow as tf\n",
    "from tensorflow.keras.models import load_model\n",
    "import pickle\n",
    "import numpy as np\n",
    "import pandas as pd"
   ]
  },
  {
   "cell_type": "code",
   "execution_count": 7,
   "id": "aa999618",
   "metadata": {},
   "outputs": [
    {
     "name": "stderr",
     "output_type": "stream",
     "text": [
      "WARNING:absl:Compiled the loaded model, but the compiled metrics have yet to be built. `model.compile_metrics` will be empty until you train or evaluate the model.\n"
     ]
    },
    {
     "ename": "EOFError",
     "evalue": "Ran out of input",
     "output_type": "error",
     "traceback": [
      "\u001b[31m---------------------------------------------------------------------------\u001b[39m",
      "\u001b[31mEOFError\u001b[39m                                  Traceback (most recent call last)",
      "\u001b[36mCell\u001b[39m\u001b[36m \u001b[39m\u001b[32mIn[7]\u001b[39m\u001b[32m, line 6\u001b[39m\n\u001b[32m      4\u001b[39m \u001b[38;5;66;03m#load the encoder and scaler\u001b[39;00m\n\u001b[32m      5\u001b[39m \u001b[38;5;28;01mwith\u001b[39;00m \u001b[38;5;28mopen\u001b[39m(\u001b[33m'\u001b[39m\u001b[33mlabel_encoder_gender.pkl\u001b[39m\u001b[33m'\u001b[39m,\u001b[33m'\u001b[39m\u001b[33mrb\u001b[39m\u001b[33m'\u001b[39m) \u001b[38;5;28;01mas\u001b[39;00m f:\n\u001b[32m----> \u001b[39m\u001b[32m6\u001b[39m     label_encoder_gender=\u001b[43mpickle\u001b[49m\u001b[43m.\u001b[49m\u001b[43mload\u001b[49m\u001b[43m(\u001b[49m\u001b[43mf\u001b[49m\u001b[43m)\u001b[49m\n\u001b[32m      7\u001b[39m \u001b[38;5;28;01mwith\u001b[39;00m \u001b[38;5;28mopen\u001b[39m(\u001b[33m'\u001b[39m\u001b[33monehotencoder_geography.pkl\u001b[39m\u001b[33m'\u001b[39m,\u001b[33m'\u001b[39m\u001b[33mrb\u001b[39m\u001b[33m'\u001b[39m) \u001b[38;5;28;01mas\u001b[39;00m f:\n\u001b[32m      8\u001b[39m     onehotencoder=pickle.load(f)\n",
      "\u001b[31mEOFError\u001b[39m: Ran out of input"
     ]
    }
   ],
   "source": [
    "#load the trained model,scaler pickle,onehot\n",
    "\n",
    "model=load_model('model.h5')\n",
    "#load the encoder and scaler\n",
    "with open('label_encoder_gender.pkl','rb') as f:\n",
    "    label_encoder_gender=pickle.load(f)\n",
    "with open('onehotencoder_geography.pkl','rb') as f:\n",
    "    onehotencoder=pickle.load(f)\n",
    "with open('scaler.pkl','rb') as f:\n",
    "    scaler=pickle.load(f)"
   ]
  },
  {
   "cell_type": "code",
   "execution_count": 4,
   "metadata": {},
   "outputs": [
    {
     "name": "stdout",
     "output_type": "stream",
     "text": [
      "label_encoder_gender.pkl exists: True size: 0\n",
      "onehotencoder_geography.pkl exists: True size: 609\n",
      "scaler.pkl exists: True size: 993\n"
     ]
    }
   ],
   "source": [
    "import os\n",
    "\n",
    "for f in ['label_encoder_gender.pkl','onehotencoder_geography.pkl','scaler.pkl']:\n",
    "    print(f, 'exists:', os.path.exists(f), 'size:', os.path.getsize(f) if os.path.exists(f) else 'NA')\n"
   ]
  },
  {
   "cell_type": "code",
   "execution_count": 8,
   "id": "0ebcd15d",
   "metadata": {},
   "outputs": [
    {
     "ename": "NameError",
     "evalue": "name 'X' is not defined",
     "output_type": "error",
     "traceback": [
      "\u001b[31m---------------------------------------------------------------------------\u001b[39m",
      "\u001b[31mNameError\u001b[39m                                 Traceback (most recent call last)",
      "\u001b[36mCell\u001b[39m\u001b[36m \u001b[39m\u001b[32mIn[8]\u001b[39m\u001b[32m, line 5\u001b[39m\n\u001b[32m      3\u001b[39m \u001b[38;5;66;03m# Example: rebuild and fit\u001b[39;00m\n\u001b[32m      4\u001b[39m label_encoder_gender = LabelEncoder()\n\u001b[32m----> \u001b[39m\u001b[32m5\u001b[39m X[\u001b[33m'\u001b[39m\u001b[33mGender\u001b[39m\u001b[33m'\u001b[39m] = label_encoder_gender.fit_transform(\u001b[43mX\u001b[49m[\u001b[33m'\u001b[39m\u001b[33mGender\u001b[39m\u001b[33m'\u001b[39m])\n\u001b[32m      7\u001b[39m onehotencoder = OneHotEncoder()\n\u001b[32m      8\u001b[39m geography_encoded = onehotencoder.fit_transform(X[[\u001b[33m'\u001b[39m\u001b[33mGeography\u001b[39m\u001b[33m'\u001b[39m]]).toarray()\n",
      "\u001b[31mNameError\u001b[39m: name 'X' is not defined"
     ]
    }
   ],
   "source": [
    "from sklearn.preprocessing import LabelEncoder, OneHotEncoder, StandardScaler\n",
    "\n",
    "# Example: rebuild and fit\n",
    "label_encoder_gender = LabelEncoder()\n",
    "X['Gender'] = label_encoder_gender.fit_transform(X['Gender'])\n",
    "\n",
    "onehotencoder = OneHotEncoder()\n",
    "geography_encoded = onehotencoder.fit_transform(X[['Geography']]).toarray()\n",
    "\n",
    "scaler = StandardScaler()\n",
    "X_scaled = scaler.fit_transform(X_numeric_features)\n"
   ]
  }
 ],
 "metadata": {
  "kernelspec": {
   "display_name": "Python 3",
   "language": "python",
   "name": "python3"
  },
  "language_info": {
   "codemirror_mode": {
    "name": "ipython",
    "version": 3
   },
   "file_extension": ".py",
   "mimetype": "text/x-python",
   "name": "python",
   "nbconvert_exporter": "python",
   "pygments_lexer": "ipython3",
   "version": "3.12.7"
  }
 },
 "nbformat": 4,
 "nbformat_minor": 5
}
